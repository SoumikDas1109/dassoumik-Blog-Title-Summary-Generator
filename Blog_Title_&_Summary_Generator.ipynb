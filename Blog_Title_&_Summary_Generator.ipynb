{
  "nbformat": 4,
  "nbformat_minor": 0,
  "metadata": {
    "colab": {
      "provenance": [],
      "authorship_tag": "ABX9TyPYpLphcRldDorJSxxYI/zV",
      "include_colab_link": true
    },
    "kernelspec": {
      "name": "python3",
      "display_name": "Python 3"
    },
    "language_info": {
      "name": "python"
    }
  },
  "cells": [
    {
      "cell_type": "markdown",
      "metadata": {
        "id": "view-in-github",
        "colab_type": "text"
      },
      "source": [
        "<a href=\"https://colab.research.google.com/github/SoumikDas1109/dassoumik-Blog-Title-Summary-Generator/blob/main/Blog_Title_%26_Summary_Generator.ipynb\" target=\"_parent\"><img src=\"https://colab.research.google.com/assets/colab-badge.svg\" alt=\"Open In Colab\"/></a>"
      ]
    },
    {
      "cell_type": "code",
      "source": [
        "from transformers import pipeline\n",
        "import torch\n",
        "\n",
        "class OptimizedBlogGenerator:\n",
        "    def __init__(self):\n",
        "        self.device = 0 if torch.cuda.is_available() else -1\n",
        "\n",
        "        # Initialize models with better configuration\n",
        "        self.summarizer = pipeline(\n",
        "            \"summarization\",\n",
        "            model=\"facebook/bart-large-cnn\",\n",
        "            device=self.device,\n",
        "            truncation=True\n",
        "        )\n",
        "\n",
        "        self.title_generator = pipeline(\n",
        "            \"text-generation\",\n",
        "            model=\"gpt2-medium\",  # Better for creative titles\n",
        "            device=self.device\n",
        "        )\n",
        "\n",
        "    def generate_catchy_title(self, text):\n",
        "        try:\n",
        "            # More focused prompt for concise titles\n",
        "            prompt = f\"Generate a catchy blog title under 10 words about: {text[:300]}\\nTitle:\"\n",
        "\n",
        "            title = self.title_generator(\n",
        "                prompt,\n",
        "                max_new_tokens=20,  # Strict limit for short titles\n",
        "                num_return_sequences=1,\n",
        "                num_beams=4,\n",
        "                early_stopping=True,\n",
        "                temperature=0.9,  # For more creative titles\n",
        "                top_k=50,\n",
        "                do_sample=True,\n",
        "                truncation=True\n",
        "            )\n",
        "\n",
        "            # Extract and clean the title\n",
        "            clean_title = title[0]['generated_text'].replace(prompt, '').strip()\n",
        "            clean_title = clean_title.split('\\n')[0].split('.')[0]\n",
        "\n",
        "            # Ensure proper length and formatting\n",
        "            words = clean_title.split()[:10]  # Max 10 words\n",
        "            return ' '.join(words).strip('\"').strip(\"'\").strip()\n",
        "\n",
        "        except Exception as e:\n",
        "            print(f\"Title generation note: {str(e)}\")\n",
        "            return \"AI Revolution in Academic Writing\"\n",
        "\n",
        "    def generate_concise_summary(self, text):\n",
        "        try:\n",
        "            word_count = len(text.split())\n",
        "\n",
        "            # Dynamic length adjustment\n",
        "            max_len = min(150, max(60, word_count//4))\n",
        "            min_len = min(40, max_len//2)\n",
        "\n",
        "            summary = self.summarizer(\n",
        "                text,\n",
        "                max_length=max_len,\n",
        "                min_length=min_len,\n",
        "                do_sample=False,\n",
        "                truncation=True\n",
        "            )\n",
        "            return summary[0]['summary_text']\n",
        "\n",
        "        except Exception as e:\n",
        "            print(f\"Summary generation note: {str(e)}\")\n",
        "            return \"This article explores the impact of AI on academic writing processes.\"\n",
        "\n",
        "    def run_interactive(self):\n",
        "        print(\"Optimized Blog Title & Summary Generator\")\n",
        "        print(\"Type 'quit' to exit\\n\")\n",
        "\n",
        "        while True:\n",
        "            blog_content = input(\"Paste your blog content here (min 50 words):\\n> \")\n",
        "\n",
        "            if blog_content.lower() in ['quit', 'exit']:\n",
        "                print(\"Goodbye!\")\n",
        "                break\n",
        "\n",
        "            if len(blog_content.split()) < 50:\n",
        "                print(\"Please enter at least 50 words for best results.\")\n",
        "                continue\n",
        "\n",
        "            print(\"\\nGenerating title and summary...\")\n",
        "            title = self.generate_catchy_title(blog_content)\n",
        "            summary = self.generate_concise_summary(blog_content)\n",
        "\n",
        "            print(f\"\\nTitle: {title}\")\n",
        "            print(f\"Summary: {summary}\\n\")\n",
        "            print(\"-\" * 50 + \"\\n\")\n",
        "\n",
        "if __name__ == \"__main__\":\n",
        "    generator = OptimizedBlogGenerator()\n",
        "    generator.run_interactive()"
      ],
      "metadata": {
        "colab": {
          "base_uri": "https://localhost:8080/"
        },
        "id": "sUnM2uLJa1Q_",
        "outputId": "8d413320-3f8a-47cf-bf97-55a129deb753"
      },
      "execution_count": null,
      "outputs": [
        {
          "output_type": "stream",
          "name": "stderr",
          "text": [
            "Device set to use cpu\n",
            "Device set to use cpu\n"
          ]
        },
        {
          "name": "stdout",
          "output_type": "stream",
          "text": [
            "Optimized Blog Title & Summary Generator\n",
            "Type 'quit' to exit\n",
            "\n",
            "Paste your blog content here (min 50 words):\n",
            "> Artificial intelligence in writing academic essays AI-driven writing tools have garnered attention for their ability to assist students in composing essays, offering grammar and style suggestions, and facilitating content generation. Gayed et al. (2022)demonstrated the positive impact of AI writing tools on students' writing proficiency and self-efficacy. Such tools have proven to be valuable aids for learners, especially in providing timely feedback and improving writing skills. However, Makarius et al. (2020) highlighted the need for further improvements in AI tools to enhance their contextual understanding and effectiveness across diverse subject areas. AI's integration into academic essay writing also raises questions about the role of educators and ethical considerations. Su et al. (2022)explored the impact of AI on the teaching process and concluded that while AI tools can be valuable in providing feedback, the guidance of teachers remains essential in fostering critical thinking and creativity. On the ethical front, Chaudhry et al. (2023) examined the implications of AI in plagiarism detection, stressing the need for clear guidelines and educating students about AI's limitations and proper use. Looking ahead, researchers have identified several challenges and potential areas for future research. The interpretability of AI-generated writing remains an ongoing concern, with Theodosiou and Read (2023) proposing methods to enhance transparency and comprehension. Moreover, AI's potential to encourage creativity in essay writing has been investigated by Mazzone and Elgammal (2019) & Dwivedi et al. (2023), opening new avenues for exploring AI's role beyond mere assistance. In conclusion, the literature review on artificial intelligence in writing academic essays illustrates the transformative impact of AI in education. AI-powered writing tools offer valuable support for students and educators, but challenges in contextual understanding, bias, and ethical use demand continued research and development. By striking a balance between human guidance and AI-driven automation, we can harness the full potential of AI to enhance the learning experience and promote academic excellence.\n"
          ]
        },
        {
          "output_type": "stream",
          "name": "stderr",
          "text": [
            "Setting `pad_token_id` to `eos_token_id`:50256 for open-end generation.\n"
          ]
        },
        {
          "output_type": "stream",
          "name": "stdout",
          "text": [
            "\n",
            "Generating title and summary...\n"
          ]
        },
        {
          "output_type": "stream",
          "name": "stderr",
          "text": [
            "Asking to truncate to max_length but no maximum length is provided and the model has no predefined maximum length. Default to no truncation.\n"
          ]
        },
        {
          "name": "stdout",
          "output_type": "stream",
          "text": [
            "\n",
            "Title: Artificial Intelligence in Writing Academic Essays\n",
            "Summary: AI-driven writing tools have garnered attention for their ability to assist students in composing essays. Gayed et al. (2022)demonstrated the positive impact of AI writing tools on students' writing proficiency and self-efficacy. Such tools have proven to be valuable aids for learners, especially in providing timely feedback.\n",
            "\n",
            "--------------------------------------------------\n",
            "\n",
            "Paste your blog content here (min 50 words):\n",
            "> Higher education perceptions of artificial intelligence Studies have explored the diverse functionalities of these AI tools and their impact on writing productivity, quality, and students' learning experiences. The integration of Artificial Intelligence (AI) in writing academic essays has become a significant area of interest in higher education. AI-powered writing tools have gained prominence as valuable aids for students and writers, offering diverse functionalities to support the writing process. Numerous studies have explored the effectiveness of AI writing tools in higher education settings. For instance, Miranty and Widiati (2021) & Almusharraf and Alotaibi (2023) investigated the impact of Grammarly, an AI-based grammar and style checker, on undergraduate students' writing skills. The study found that students who used Grammarly demonstrated improvements in grammar accuracy and writing quality compared to the control group. AI language models, like ChatGPT, have been investigated for their potential in assisting students with content generation. In a study by Farrokhnia et al. (2023) & Rospigliosi (2023) ChatGPT was utilized to aid graduate students in generating research proposals. The results indicated that the AI-generated content was valuable in providing initial ideas and structuring the proposals, though students still needed to refine and expand on the generated content. Ethical considerations surrounding the use of AI writing tools in higher education have been explored. Kreps et al. (2022) & Holmes et al. (2022) conducted a survey study to assess students' perceptions of AI tools and their understanding of AI-generated content's proper use. The findings emphasized the need for proper education and guidance on AI tool usage to avoid issues of plagiarism and ensure academic integrity. Furthermore, researchers have examined the impact of AI-powered peer review systems in higher education. Li (2023) implemented an AI-based peer review system for essay drafts in a college writing course. The study revealed that students appreciated the timely feedback from the AI system, which helped them make improvements before submitting their final essays. AI tools have also been deployed to support academic research writing in higher education. (Lameras & Arnab, 2022)investigated the use of Zotero, an AI-powered reference management tool, among postgraduate researchers. The study found that Zotero significantly improved the organization and citation process, streamlining students' research workflow. Additionally, studies have explored the use of AI-driven Automated Essay Evaluation systems for grading and feedback. Stahl et al. (2023) compared the performance of an AI grading system with human grading in assessing undergraduate essays. The results indicated a strong correlation between AI and human scores, supporting the reliability of AI grading for formative assessment. In summary, the literature on using AI in writing academic essays in higher education demonstrates the growing interest in AI-powered writing tools and their potential impact on student writing skills, productivity, and academic performance. While the benefits of AI tools are evident, ethical considerations, the need for proper education, and refining AI-generated content usage are essential to ensure responsible and effective integration of AI in higher education settings. Continued research will play a pivotal role in advancing AI writing tools' capabilities and uncovering new possibilities for enhancing the writing experience in higher education. In summary, the literature on using AI in writing academic essays in higher education demonstrates the growing interest in AI-powered writing tools and their potential impact on student writing skills, productivity, and academic performance. While the benefits of AI tools are evident, ethical considerations, the need for proper education, and refining AI-generated content usage are essential to ensure responsible and effective integration of AI in higher education settings. Continued research will play a pivotal role in advancing AI writing tools' capabilities and uncovering new possibilities for enhancing the writing experience in higher education.\n"
          ]
        },
        {
          "output_type": "stream",
          "name": "stderr",
          "text": [
            "Setting `pad_token_id` to `eos_token_id`:50256 for open-end generation.\n"
          ]
        },
        {
          "output_type": "stream",
          "name": "stdout",
          "text": [
            "\n",
            "Generating title and summary...\n",
            "\n",
            "Title: Artificial Intelligence in Writing: A Review of the Literature Title:\n",
            "Summary: Artificial Intelligence (AI) in writing academic essays has become a significant area of interest in higher education. Studies have explored the diverse functionalities of these AI tools and their impact on writing productivity, quality, and students' learning experiences. Ethical considerations, the need for proper education, and refining AI-generated content usage are essential to ensure responsible and effective integration of AI.\n",
            "\n",
            "--------------------------------------------------\n",
            "\n",
            "Paste your blog content here (min 50 words):\n",
            "> exit\n",
            "Goodbye!\n"
          ]
        }
      ]
    }
  ]
}